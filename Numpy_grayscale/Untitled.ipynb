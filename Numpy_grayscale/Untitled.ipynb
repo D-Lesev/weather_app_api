{
 "cells": [
  {
   "cell_type": "code",
   "execution_count": 1,
   "id": "466f9c67",
   "metadata": {},
   "outputs": [],
   "source": [
    "import numpy\n",
    "n=numpy.arange(27)"
   ]
  },
  {
   "cell_type": "code",
   "execution_count": 3,
   "id": "c3959e13",
   "metadata": {},
   "outputs": [
    {
     "data": {
      "text/plain": [
       "numpy.ndarray"
      ]
     },
     "execution_count": 3,
     "metadata": {},
     "output_type": "execute_result"
    }
   ],
   "source": [
    "type(n)"
   ]
  },
  {
   "cell_type": "code",
   "execution_count": 5,
   "id": "69ce14e2",
   "metadata": {},
   "outputs": [
    {
     "data": {
      "text/plain": [
       "array([[[ 0,  1,  2],\n",
       "        [ 3,  4,  5],\n",
       "        [ 6,  7,  8]],\n",
       "\n",
       "       [[ 9, 10, 11],\n",
       "        [12, 13, 14],\n",
       "        [15, 16, 17]],\n",
       "\n",
       "       [[18, 19, 20],\n",
       "        [21, 22, 23],\n",
       "        [24, 25, 26]]])"
      ]
     },
     "execution_count": 5,
     "metadata": {},
     "output_type": "execute_result"
    }
   ],
   "source": [
    "n.reshape(3,3,3)"
   ]
  },
  {
   "cell_type": "code",
   "execution_count": 6,
   "id": "4a5e4292",
   "metadata": {},
   "outputs": [],
   "source": [
    "import cv2"
   ]
  },
  {
   "cell_type": "code",
   "execution_count": 11,
   "id": "24ac6283",
   "metadata": {},
   "outputs": [
    {
     "name": "stdout",
     "output_type": "stream",
     "text": [
      "[[187 158 104 121 143]\n",
      " [198 125 255 255 147]\n",
      " [209 134 255  97 182]]\n"
     ]
    }
   ],
   "source": [
    "im_g=cv2.imread(\"smallgray.png\",0)\n",
    "print(im_g)"
   ]
  },
  {
   "cell_type": "code",
   "execution_count": 10,
   "id": "a187c93d",
   "metadata": {},
   "outputs": [
    {
     "data": {
      "text/plain": [
       "True"
      ]
     },
     "execution_count": 10,
     "metadata": {},
     "output_type": "execute_result"
    }
   ],
   "source": [
    "cv2.imwrite(\"newsmallgray.png\", im_g)"
   ]
  },
  {
   "cell_type": "code",
   "execution_count": 17,
   "id": "218b4638",
   "metadata": {},
   "outputs": [
    {
     "data": {
      "text/plain": [
       "182"
      ]
     },
     "execution_count": 17,
     "metadata": {},
     "output_type": "execute_result"
    }
   ],
   "source": [
    "im_g[2,4]"
   ]
  },
  {
   "cell_type": "code",
   "execution_count": 22,
   "id": "15fcde87",
   "metadata": {},
   "outputs": [],
   "source": [
    "ims=numpy.vstack([im_g,im_g])"
   ]
  },
  {
   "cell_type": "code",
   "execution_count": 24,
   "id": "4f358cbc",
   "metadata": {},
   "outputs": [
    {
     "name": "stdout",
     "output_type": "stream",
     "text": [
      "[[187 158 104 121 143]\n",
      " [198 125 255 255 147]\n",
      " [209 134 255  97 182]\n",
      " [187 158 104 121 143]\n",
      " [198 125 255 255 147]\n",
      " [209 134 255  97 182]]\n"
     ]
    }
   ],
   "source": [
    "print(ims)"
   ]
  },
  {
   "cell_type": "code",
   "execution_count": 27,
   "id": "149c8235",
   "metadata": {},
   "outputs": [],
   "source": [
    "lst=numpy.vsplit(ims, 2)"
   ]
  },
  {
   "cell_type": "code",
   "execution_count": 28,
   "id": "ee8cb693",
   "metadata": {},
   "outputs": [
    {
     "data": {
      "text/plain": [
       "[array([[187, 158, 104, 121, 143],\n",
       "        [198, 125, 255, 255, 147],\n",
       "        [209, 134, 255,  97, 182]], dtype=uint8),\n",
       " array([[187, 158, 104, 121, 143],\n",
       "        [198, 125, 255, 255, 147],\n",
       "        [209, 134, 255,  97, 182]], dtype=uint8)]"
      ]
     },
     "execution_count": 28,
     "metadata": {},
     "output_type": "execute_result"
    }
   ],
   "source": [
    "lst"
   ]
  },
  {
   "cell_type": "code",
   "execution_count": null,
   "id": "c61c5fd4",
   "metadata": {},
   "outputs": [],
   "source": []
  }
 ],
 "metadata": {
  "kernelspec": {
   "display_name": "Python 3 (ipykernel)",
   "language": "python",
   "name": "python3"
  },
  "language_info": {
   "codemirror_mode": {
    "name": "ipython",
    "version": 3
   },
   "file_extension": ".py",
   "mimetype": "text/x-python",
   "name": "python",
   "nbconvert_exporter": "python",
   "pygments_lexer": "ipython3",
   "version": "3.10.3"
  }
 },
 "nbformat": 4,
 "nbformat_minor": 5
}
